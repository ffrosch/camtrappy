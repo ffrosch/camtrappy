{
 "cells": [
  {
   "cell_type": "code",
   "execution_count": 1,
   "source": [
    "import os\r\n",
    "from pprint import pprint\r\n",
    "from sqlalchemy import insert, select\r\n",
    "\r\n",
    "import settings # type: ignore\r\n",
    "from camtrappy.db.schema import Video, Location, Project\r\n",
    "from camtrappy.db.testdb import Session\r\n",
    "from camtrappy.io import video, parsing\r\n",
    "\r\n",
    "DATA_DIR = settings.data_dir_real\r\n",
    "PROJECT = parsing.Project(projectfolder=None, datafolder=DATA_DIR)"
   ],
   "outputs": [
    {
     "output_type": "stream",
     "name": "stdout",
     "text": [
      "home:      n:\\Mitarbeiter\\Florian\\projects\\CamTrapPy\n",
      "data:      n:\\Mitarbeiter\\Florian\\projects\\CamTrapPy\\tests\\data\n",
      "notebooks: n:\\Mitarbeiter\\Florian\\projects\\CamTrapPy\\notebooks\n",
      "--Setup complete--\n",
      "2021-07-18 16:34:35,702 INFO sqlalchemy.engine.Engine BEGIN (implicit)\n",
      "2021-07-18 16:34:35,703 INFO sqlalchemy.engine.Engine PRAGMA main.table_info(\"videos\")\n",
      "2021-07-18 16:34:35,704 INFO sqlalchemy.engine.Engine [raw sql] ()\n",
      "2021-07-18 16:34:35,706 INFO sqlalchemy.engine.Engine PRAGMA temp.table_info(\"videos\")\n",
      "2021-07-18 16:34:35,707 INFO sqlalchemy.engine.Engine [raw sql] ()\n",
      "2021-07-18 16:34:35,708 INFO sqlalchemy.engine.Engine PRAGMA main.table_info(\"locations\")\n",
      "2021-07-18 16:34:35,709 INFO sqlalchemy.engine.Engine [raw sql] ()\n",
      "2021-07-18 16:34:35,710 INFO sqlalchemy.engine.Engine PRAGMA temp.table_info(\"locations\")\n",
      "2021-07-18 16:34:35,711 INFO sqlalchemy.engine.Engine [raw sql] ()\n",
      "2021-07-18 16:34:35,713 INFO sqlalchemy.engine.Engine PRAGMA main.table_info(\"projects\")\n",
      "2021-07-18 16:34:35,713 INFO sqlalchemy.engine.Engine [raw sql] ()\n",
      "2021-07-18 16:34:35,715 INFO sqlalchemy.engine.Engine PRAGMA temp.table_info(\"projects\")\n",
      "2021-07-18 16:34:35,715 INFO sqlalchemy.engine.Engine [raw sql] ()\n",
      "2021-07-18 16:34:35,717 INFO sqlalchemy.engine.Engine \n",
      "CREATE TABLE projects (\n",
      "\tid INTEGER NOT NULL, \n",
      "\tname VARCHAR, \n",
      "\tdate_created DATE DEFAULT (CURRENT_TIMESTAMP), \n",
      "\tdate_finished DATE, \n",
      "\tPRIMARY KEY (id)\n",
      ")\n",
      "\n",
      "\n",
      "2021-07-18 16:34:35,718 INFO sqlalchemy.engine.Engine [no key 0.00064s] ()\n",
      "2021-07-18 16:34:35,828 INFO sqlalchemy.engine.Engine \n",
      "CREATE TABLE locations (\n",
      "\tid INTEGER NOT NULL, \n",
      "\tname VARCHAR, \n",
      "\tlat FLOAT, \n",
      "\tlon FLOAT, \n",
      "\tproject_id INTEGER, \n",
      "\tPRIMARY KEY (id), \n",
      "\tFOREIGN KEY(project_id) REFERENCES projects (id)\n",
      ")\n",
      "\n",
      "\n",
      "2021-07-18 16:34:35,829 INFO sqlalchemy.engine.Engine [no key 0.00102s] ()\n",
      "2021-07-18 16:34:35,855 INFO sqlalchemy.engine.Engine \n",
      "CREATE TABLE videos (\n",
      "\tid INTEGER NOT NULL, \n",
      "\tpath VARCHAR, \n",
      "\tdate_added DATETIME DEFAULT (CURRENT_TIMESTAMP), \n",
      "\tlocation_id INTEGER, \n",
      "\tPRIMARY KEY (id), \n",
      "\tFOREIGN KEY(location_id) REFERENCES locations (id)\n",
      ")\n",
      "\n",
      "\n",
      "2021-07-18 16:34:35,856 INFO sqlalchemy.engine.Engine [no key 0.00090s] ()\n",
      "2021-07-18 16:34:35,879 INFO sqlalchemy.engine.Engine COMMIT\n"
     ]
    }
   ],
   "metadata": {}
  },
  {
   "cell_type": "code",
   "execution_count": 2,
   "source": [
    "pprint(PROJECT.data(full_path=True))\r\n",
    "pprint(PROJECT.data(full_path=False))\r\n",
    "pprint(PROJECT.data_flat())"
   ],
   "outputs": [
    {
     "output_type": "stream",
     "name": "stdout",
     "text": [
      "{'n:\\\\Mitarbeiter\\\\Florian\\\\projects\\\\CamTrapPy\\\\tests\\\\data\\\\real_datasets\\\\1_Tauberbischofsheim': ['n:\\\\Mitarbeiter\\\\Florian\\\\projects\\\\CamTrapPy\\\\tests\\\\data\\\\real_datasets\\\\1_Tauberbischofsheim\\\\20190306\\\\17\\\\20190306_171415_5EAF_ACCC8EAE987D\\\\20190307_01\\\\20190307_010534_BEE9.mkv',\n",
      "                                                                                                     'n:\\\\Mitarbeiter\\\\Florian\\\\projects\\\\CamTrapPy\\\\tests\\\\data\\\\real_datasets\\\\1_Tauberbischofsheim\\\\20190306\\\\17\\\\20190306_171415_5EAF_ACCC8EAE987D\\\\20190307_01\\\\20190307_011034_B0E3.mkv',\n",
      "                                                                                                     'n:\\\\Mitarbeiter\\\\Florian\\\\projects\\\\CamTrapPy\\\\tests\\\\data\\\\real_datasets\\\\1_Tauberbischofsheim\\\\20190306\\\\17\\\\20190306_171415_5EAF_ACCC8EAE987D\\\\20190307_01\\\\20190307_012036_B475.mkv',\n",
      "                                                                                                     'n:\\\\Mitarbeiter\\\\Florian\\\\projects\\\\CamTrapPy\\\\tests\\\\data\\\\real_datasets\\\\1_Tauberbischofsheim\\\\20190306\\\\17\\\\20190306_171415_5EAF_ACCC8EAE987D\\\\20190307_01\\\\20190307_011535_FDCB.mkv',\n",
      "                                                                                                     'n:\\\\Mitarbeiter\\\\Florian\\\\projects\\\\CamTrapPy\\\\tests\\\\data\\\\real_datasets\\\\1_Tauberbischofsheim\\\\20190306\\\\17\\\\20190306_171415_5EAF_ACCC8EAE987D\\\\20190307_01\\\\20190307_010033_1492.mkv']}\n",
      "{'1_Tauberbischofsheim': ['20190306\\\\17\\\\20190306_171415_5EAF_ACCC8EAE987D\\\\20190307_01\\\\20190307_010534_BEE9.mkv',\n",
      "                          '20190306\\\\17\\\\20190306_171415_5EAF_ACCC8EAE987D\\\\20190307_01\\\\20190307_011034_B0E3.mkv',\n",
      "                          '20190306\\\\17\\\\20190306_171415_5EAF_ACCC8EAE987D\\\\20190307_01\\\\20190307_012036_B475.mkv',\n",
      "                          '20190306\\\\17\\\\20190306_171415_5EAF_ACCC8EAE987D\\\\20190307_01\\\\20190307_011535_FDCB.mkv',\n",
      "                          '20190306\\\\17\\\\20190306_171415_5EAF_ACCC8EAE987D\\\\20190307_01\\\\20190307_010033_1492.mkv']}\n",
      "[('1_Tauberbischofsheim',\n",
      "  '20190306\\\\17\\\\20190306_171415_5EAF_ACCC8EAE987D\\\\20190307_01\\\\20190307_010534_BEE9.mkv',\n",
      "  datetime.date(2019, 3, 7),\n",
      "  datetime.time(1, 5, 34)),\n",
      " ('1_Tauberbischofsheim',\n",
      "  '20190306\\\\17\\\\20190306_171415_5EAF_ACCC8EAE987D\\\\20190307_01\\\\20190307_011034_B0E3.mkv',\n",
      "  datetime.date(2019, 3, 7),\n",
      "  datetime.time(1, 10, 34)),\n",
      " ('1_Tauberbischofsheim',\n",
      "  '20190306\\\\17\\\\20190306_171415_5EAF_ACCC8EAE987D\\\\20190307_01\\\\20190307_012036_B475.mkv',\n",
      "  datetime.date(2019, 3, 7),\n",
      "  datetime.time(1, 20, 36)),\n",
      " ('1_Tauberbischofsheim',\n",
      "  '20190306\\\\17\\\\20190306_171415_5EAF_ACCC8EAE987D\\\\20190307_01\\\\20190307_011535_FDCB.mkv',\n",
      "  datetime.date(2019, 3, 7),\n",
      "  datetime.time(1, 15, 35)),\n",
      " ('1_Tauberbischofsheim',\n",
      "  '20190306\\\\17\\\\20190306_171415_5EAF_ACCC8EAE987D\\\\20190307_01\\\\20190307_010033_1492.mkv',\n",
      "  datetime.date(2019, 3, 7),\n",
      "  datetime.time(1, 0, 33))]\n"
     ]
    }
   ],
   "metadata": {}
  },
  {
   "cell_type": "code",
   "execution_count": 3,
   "source": [
    "# # combine sessionmaker Session, with-statement & begin() to start session, handle exceptions, rollback, commit and close at once\r\n",
    "# with Session.begin() as session:\r\n",
    "#     session.add(object)\r\n",
    "\r\n",
    "dir(Video)"
   ],
   "outputs": [
    {
     "output_type": "execute_result",
     "data": {
      "text/plain": [
       "['__abstract__',\n",
       " '__class__',\n",
       " '__delattr__',\n",
       " '__dict__',\n",
       " '__dir__',\n",
       " '__doc__',\n",
       " '__eq__',\n",
       " '__format__',\n",
       " '__ge__',\n",
       " '__getattribute__',\n",
       " '__gt__',\n",
       " '__hash__',\n",
       " '__init__',\n",
       " '__init_subclass__',\n",
       " '__le__',\n",
       " '__lt__',\n",
       " '__mapper__',\n",
       " '__module__',\n",
       " '__ne__',\n",
       " '__new__',\n",
       " '__reduce__',\n",
       " '__reduce_ex__',\n",
       " '__repr__',\n",
       " '__setattr__',\n",
       " '__sizeof__',\n",
       " '__str__',\n",
       " '__subclasshook__',\n",
       " '__table__',\n",
       " '__tablename__',\n",
       " '__weakref__',\n",
       " '_sa_class_manager',\n",
       " '_sa_registry',\n",
       " 'date_added',\n",
       " 'id',\n",
       " 'location',\n",
       " 'location_id',\n",
       " 'metadata',\n",
       " 'path',\n",
       " 'registry']"
      ]
     },
     "metadata": {},
     "execution_count": 3
    }
   ],
   "metadata": {}
  },
  {
   "cell_type": "markdown",
   "source": [
    "Fill db with videos"
   ],
   "metadata": {}
  },
  {
   "cell_type": "code",
   "execution_count": 4,
   "source": [
    "# videos = video.video_paths(data, ['mkv'])\r\n",
    "\r\n",
    "# new_videos = [Video(path=video) for video in videos]\r\n",
    "# with Session.begin() as session:\r\n",
    "#     session.add_all(new_videos)"
   ],
   "outputs": [],
   "metadata": {}
  },
  {
   "cell_type": "code",
   "execution_count": 2,
   "source": [
    "project = Project(name='Testproject')\r\n",
    "videos = video.video_paths(data, ['mkv'])\r\n",
    "\r\n",
    "for video_path in videos:\r\n",
    "    location_name = video.location_from_path(video_path)\r\n",
    "    location = Location(name=location_name, project=project)\r\n",
    "    vid = Video(path=video_path, location=location)\r\n",
    "    \r\n",
    "    "
   ],
   "outputs": [],
   "metadata": {}
  },
  {
   "cell_type": "code",
   "execution_count": 11,
   "source": [
    "with Session.begin() as session:\r\n",
    "    project = Project(name='Testproject')\r\n",
    "    session.add(project)\r\n",
    "\r\n",
    "videos = video.video_paths(data, ['mkv'])\r\n",
    "locations = [video.location_from_path(vid) for vid in videos]\r\n",
    "locations_videos = {location: video for location, video in zip(locations, videos)}\r\n",
    "print(locations_videos)\r\n",
    "\r\n",
    "# project = Project(name='Testproject')\r\n",
    "# new_locations = [Location(name=location, project=project) for location in locations]\r\n",
    "# new_videos = [Video(video=path, location=) for path in videos]\r\n",
    "\r\n",
    "# with Session.begin() as session:\r\n",
    "    \r\n",
    "#     session.add(project)\r\n",
    "    # result = session.query(Project).filter(Project.name == 'Testproject').first()\r\n",
    "    # print(result.id, result.name)\r\n",
    "    "
   ],
   "outputs": [
    {
     "output_type": "stream",
     "name": "stdout",
     "text": [
      "2021-07-16 20:22:09,628 INFO sqlalchemy.engine.Engine BEGIN (implicit)\n",
      "2021-07-16 20:22:09,630 INFO sqlalchemy.engine.Engine INSERT INTO projects (name, date_finished) VALUES (?, ?)\n",
      "2021-07-16 20:22:09,630 INFO sqlalchemy.engine.Engine [cached since 4287s ago] ('Testproject', None)\n",
      "2021-07-16 20:22:10,091 INFO sqlalchemy.engine.Engine COMMIT\n",
      "{'1_Tauberbischofsheim': '1_Tauberbischofsheim\\\\20190306\\\\17\\\\20190306_171415_5EAF_ACCC8EAE987D\\\\20190307_01\\\\20190307_010033_1492.mkv'}\n"
     ]
    }
   ],
   "metadata": {}
  }
 ],
 "metadata": {
  "interpreter": {
   "hash": "6ee926b1e0e7e0ca0e59ffe3cba827382fc1db2c8f1cad3f41f44f73cc5d4d8d"
  },
  "kernelspec": {
   "display_name": "Python 3.7.9 64-bit ('base': conda)",
   "name": "python3"
  },
  "language_info": {
   "codemirror_mode": {
    "name": "ipython",
    "version": 3
   },
   "file_extension": ".py",
   "mimetype": "text/x-python",
   "name": "python",
   "nbconvert_exporter": "python",
   "pygments_lexer": "ipython3",
   "version": "3.8.8"
  },
  "orig_nbformat": 4
 },
 "nbformat": 4,
 "nbformat_minor": 2
}