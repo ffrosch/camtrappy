{
 "cells": [
  {
   "cell_type": "code",
   "execution_count": null,
   "source": [
    "# # combine sessionmaker Session, with-statement & begin() to start session, handle exceptions, rollback, commit and close at once\r\n",
    "# with Session.begin() as session:\r\n",
    "#     session.add(object)\r\n",
    "#     session.add_all([objects])\r\n",
    "#     result = session.query(Project).filter(Project.name == 'Test').scalar() # scalar is good if only one match is possible due to database constraints"
   ],
   "outputs": [],
   "metadata": {}
  },
  {
   "cell_type": "code",
   "execution_count": null,
   "source": [
    "import settings # type: ignore\r\n",
    "from camtrappy.db.testdb import initialize_new_project\r\n",
    "from camtrappy.io import parsing\r\n",
    "\r\n",
    "if not 'initialized' in locals():\r\n",
    "    # Set data Dir & Data Project (file parser)\r\n",
    "    DATA_DIR = settings.data_dir_animals\r\n",
    "    new_project = parsing.ProjectParser(name='Test', projectfolder=None, datafolder=DATA_DIR, restrict_to=[])\r\n",
    "\r\n",
    "    # Create new db project with parsed data\r\n",
    "    initialize_new_project(new_project)\r\n",
    "    initialized = True"
   ],
   "outputs": [],
   "metadata": {}
  },
  {
   "cell_type": "code",
   "execution_count": null,
   "source": [
    "import settings # type: ignore\r\n",
    "from camtrappy.db.testdb import Session\r\n",
    "from camtrappy.db.schema import Video, Location\r\n",
    "from camtrappy.core.base import VideoList, VideoLoader\r\n",
    "\r\n",
    "with Session.begin() as session:\r\n",
    "    q = session.query(Video)\r\n",
    "r = q.limit(10).all()\r\n",
    "v = r[0]\r\n",
    "print(v.fullpath)\r\n",
    "\r\n",
    "with Session.begin() as session:\r\n",
    "    q = session.query(Video).where(Video.location.has(name='7_Ittlingen')).order_by(Video.date, Video.time)\r\n",
    "r = q.all()\r\n",
    "print(r)"
   ],
   "outputs": [],
   "metadata": {}
  },
  {
   "cell_type": "markdown",
   "source": [
    "# Gutes Setting\r\n",
    "\r\n",
    "gb7 = GaussianBlur((7, 7))\r\n",
    "\r\n",
    "ce = CannyEdge(180, 400)\r\n",
    "\r\n",
    "re = Resize()\r\n",
    "\r\n",
    "bgs_mog = BgsMOG(250, 5, 0.7, 25, -1)\r\n",
    "\r\n",
    "norm = Normalize()\r\n",
    "\r\n",
    "bi = BilateralFilter(9)\r\n",
    "\r\n",
    "base_transforms = [re]\r\n",
    "\r\n",
    "compare_transforms = [bi, norm, bgs_mog, gb7, ce]  # ce is not so good for findContours"
   ],
   "metadata": {}
  },
  {
   "cell_type": "code",
   "execution_count": 1,
   "source": [
    "import settings # type: ignore\r\n",
    "from camtrappy.db.testdb import Session\r\n",
    "from camtrappy.core.base import VideoLoader, VideoPlayer\r\n",
    "from camtrappy.core.transforms import (CannyEdge, GaussianBlur, TransformFactory,\r\n",
    "                                       AdaptiveHistogram, Resize, Gamma, Hysteresis,\r\n",
    "                                       BGS, Normalize, BilateralFilter, AdaptiveThreshold,\r\n",
    "                                       BgsMOG, Threshold)\r\n",
    "\r\n",
    "from camtrappy.core.analysis import CentroidTracker\r\n",
    "\r\n",
    "at = AdaptiveThreshold(7, 3)\r\n",
    "ah = AdaptiveHistogram(2, (12, 12))\r\n",
    "gb3 = GaussianBlur((3, 3))\r\n",
    "ce = CannyEdge(180, 400)\r\n",
    "gamma = Gamma(0.25)\r\n",
    "hyst = Hysteresis(0.15, 0.20)\r\n",
    "bgs1 = BGS('KNN', 0.1)\r\n",
    "bgs2 = BGS('KNN', 0.8)\r\n",
    "\r\n",
    "\r\n",
    "bi = BilateralFilter(9) # smoothing that keeps the edges\r\n",
    "norm = Normalize() # a little bit homogenization\r\n",
    "bgs_mog = BgsMOG(hist=250, nmixtures=5, background_ratio=0.7,\r\n",
    "                 noise=25, learningrate=-1) # background subtractor\r\n",
    "gb7 = GaussianBlur((7, 7)) # some more smoothing\r\n",
    "thr = Threshold(50, 'tozero') # eliminate some more noise\r\n",
    "\r\n",
    "\r\n",
    "transforms = TransformFactory([bi, norm, bgs_mog, gb7, thr])\r\n",
    "\r\n",
    "vl = VideoLoader(Session, 3, skip_n_frames=0) #, transforms=transforms)\r\n",
    "object_tracker = CentroidTracker(min_area=30, eps=1.5, maxDisappeared=50)\r\n",
    "VideoPlayer(vl).play(resize=Resize(), transforms=transforms, visitor=object_tracker, compare=True)"
   ],
   "outputs": [
    {
     "output_type": "stream",
     "name": "stdout",
     "text": [
      "home:      n:\\Mitarbeiter\\Florian\\projects\\CamTrapPy\n",
      "data:      n:\\Mitarbeiter\\Florian\\projects\\CamTrapPy\\tests\\data\n",
      "notebooks: n:\\Mitarbeiter\\Florian\\projects\\CamTrapPy\\notebooks\n",
      "--Setup complete--\n",
      "2021-08-02 17:47:16,698 INFO sqlalchemy.engine.Engine BEGIN (implicit)\n",
      "2021-08-02 17:47:16,703 INFO sqlalchemy.engine.Engine SELECT videos.id AS videos_id, videos.path AS videos_path, videos.date AS videos_date, videos.time AS videos_time, videos.fps AS videos_fps, videos.duration AS videos_duration, videos.date_added AS videos_date_added, videos.location_id AS videos_location_id, (SELECT projects.datafolder \n",
      "FROM projects, locations \n",
      "WHERE projects.id = locations.project_id AND locations.id = videos.location_id) AS anon_1, (SELECT locations.folder \n",
      "FROM locations \n",
      "WHERE locations.id = videos.location_id) AS anon_2, (SELECT projects.datafolder \n",
      "FROM projects, locations \n",
      "WHERE projects.id = locations.project_id AND locations.id = videos.location_id) || ? || (SELECT locations.folder \n",
      "FROM locations \n",
      "WHERE locations.id = videos.location_id) || ? || videos.path AS anon_3 \n",
      "FROM videos \n",
      "WHERE videos.location_id = ? ORDER BY videos.date, videos.time\n",
      "2021-08-02 17:47:16,704 INFO sqlalchemy.engine.Engine [generated in 0.00109s] ('\\\\', '\\\\', 3)\n"
     ]
    },
    {
     "output_type": "stream",
     "name": "stderr",
     "text": [
      "Exception during reset or similar\n",
      "Traceback (most recent call last):\n",
      "  File \"C:\\Users\\florian.frosch\\AppData\\Local\\Continuum\\anaconda3\\envs\\camtrappy-dev\\lib\\site-packages\\sqlalchemy\\pool\\base.py\", line 682, in _finalize_fairy\n",
      "    fairy._reset(pool)\n",
      "  File \"C:\\Users\\florian.frosch\\AppData\\Local\\Continuum\\anaconda3\\envs\\camtrappy-dev\\lib\\site-packages\\sqlalchemy\\pool\\base.py\", line 887, in _reset\n",
      "    pool._dialect.do_rollback(self)\n",
      "  File \"C:\\Users\\florian.frosch\\AppData\\Local\\Continuum\\anaconda3\\envs\\camtrappy-dev\\lib\\site-packages\\sqlalchemy\\engine\\default.py\", line 667, in do_rollback\n",
      "    dbapi_connection.rollback()\n",
      "sqlite3.ProgrammingError: SQLite objects created in a thread can only be used in that same thread. The object was created in thread id 8796 and this is thread id 9236.\n",
      "Exception closing connection <sqlite3.Connection object at 0x0000000008D1E8A0>\n",
      "Traceback (most recent call last):\n",
      "  File \"C:\\Users\\florian.frosch\\AppData\\Local\\Continuum\\anaconda3\\envs\\camtrappy-dev\\lib\\site-packages\\sqlalchemy\\pool\\base.py\", line 682, in _finalize_fairy\n",
      "    fairy._reset(pool)\n",
      "  File \"C:\\Users\\florian.frosch\\AppData\\Local\\Continuum\\anaconda3\\envs\\camtrappy-dev\\lib\\site-packages\\sqlalchemy\\pool\\base.py\", line 887, in _reset\n",
      "    pool._dialect.do_rollback(self)\n",
      "  File \"C:\\Users\\florian.frosch\\AppData\\Local\\Continuum\\anaconda3\\envs\\camtrappy-dev\\lib\\site-packages\\sqlalchemy\\engine\\default.py\", line 667, in do_rollback\n",
      "    dbapi_connection.rollback()\n",
      "sqlite3.ProgrammingError: SQLite objects created in a thread can only be used in that same thread. The object was created in thread id 8796 and this is thread id 9236.\n",
      "\n",
      "During handling of the above exception, another exception occurred:\n",
      "\n",
      "Traceback (most recent call last):\n",
      "  File \"C:\\Users\\florian.frosch\\AppData\\Local\\Continuum\\anaconda3\\envs\\camtrappy-dev\\lib\\site-packages\\sqlalchemy\\pool\\base.py\", line 244, in _close_connection\n",
      "    self._dialect.do_close(connection)\n",
      "  File \"C:\\Users\\florian.frosch\\AppData\\Local\\Continuum\\anaconda3\\envs\\camtrappy-dev\\lib\\site-packages\\sqlalchemy\\engine\\default.py\", line 673, in do_close\n",
      "    dbapi_connection.close()\n",
      "sqlite3.ProgrammingError: SQLite objects created in a thread can only be used in that same thread. The object was created in thread id 8796 and this is thread id 9236.\n"
     ]
    }
   ],
   "metadata": {}
  }
 ],
 "metadata": {
  "interpreter": {
   "hash": "6f3dbcc7f603f5b8c839717ecf6837391c5c03f7d101a6da87acb9b6b0bad1b8"
  },
  "kernelspec": {
   "name": "python3",
   "display_name": "Python 3.8.8 64-bit ('camtrappy-dev': conda)"
  },
  "language_info": {
   "codemirror_mode": {
    "name": "ipython",
    "version": 3
   },
   "file_extension": ".py",
   "mimetype": "text/x-python",
   "name": "python",
   "nbconvert_exporter": "python",
   "pygments_lexer": "ipython3",
   "version": "3.8.8"
  },
  "orig_nbformat": 4
 },
 "nbformat": 4,
 "nbformat_minor": 2
}