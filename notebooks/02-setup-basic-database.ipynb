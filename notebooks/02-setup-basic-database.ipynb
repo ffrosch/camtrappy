{
 "cells": [
  {
   "cell_type": "code",
   "execution_count": 2,
   "source": [
    "import os\r\n",
    "from sqlalchemy import insert, select\r\n",
    "\r\n",
    "import settings\r\n",
    "from camtrappy.db.schema import Video, Location, Project\r\n",
    "from camtrappy.db.testdb import Session\r\n",
    "from camtrappy.io import video, parsing\r\n",
    "\r\n",
    "DATA_DIR = settings.data_dir_real"
   ],
   "outputs": [],
   "metadata": {}
  },
  {
   "cell_type": "code",
   "execution_count": 3,
   "source": [
    "project = parsing.Project(projectfolder=None, datafolder=DATA_DIR)\r\n",
    "project._data.items()"
   ],
   "outputs": [
    {
     "output_type": "execute_result",
     "data": {
      "text/plain": [
       "dict_items([('1_Tauberbischofsheim', ['20190306\\\\17\\\\20190306_171415_5EAF_ACCC8EAE987D\\\\20190307_01\\\\20190307_010534_BEE9.mkv', '20190306\\\\17\\\\20190306_171415_5EAF_ACCC8EAE987D\\\\20190307_01\\\\20190307_011034_B0E3.mkv', '20190306\\\\17\\\\20190306_171415_5EAF_ACCC8EAE987D\\\\20190307_01\\\\20190307_012036_B475.mkv', '20190306\\\\17\\\\20190306_171415_5EAF_ACCC8EAE987D\\\\20190307_01\\\\20190307_011535_FDCB.mkv', '20190306\\\\17\\\\20190306_171415_5EAF_ACCC8EAE987D\\\\20190307_01\\\\20190307_010033_1492.mkv'])])"
      ]
     },
     "metadata": {},
     "execution_count": 3
    }
   ],
   "metadata": {}
  },
  {
   "cell_type": "code",
   "execution_count": 2,
   "source": [
    "# # combine sessionmaker Session, with-statement & begin() to start session, handle exceptions, rollback, commit and close at once\r\n",
    "# with Session.begin() as session:\r\n",
    "#     session.add(object)"
   ],
   "outputs": [],
   "metadata": {}
  },
  {
   "cell_type": "markdown",
   "source": [
    "Fill db with videos"
   ],
   "metadata": {}
  },
  {
   "cell_type": "code",
   "execution_count": 4,
   "source": [
    "# videos = video.video_paths(data, ['mkv'])\r\n",
    "\r\n",
    "# new_videos = [Video(path=video) for video in videos]\r\n",
    "# with Session.begin() as session:\r\n",
    "#     session.add_all(new_videos)"
   ],
   "outputs": [],
   "metadata": {}
  },
  {
   "cell_type": "code",
   "execution_count": 2,
   "source": [
    "project = Project(name='Testproject')\r\n",
    "videos = video.video_paths(data, ['mkv'])\r\n",
    "\r\n",
    "for video_path in videos:\r\n",
    "    location_name = video.location_from_path(video_path)\r\n",
    "    location = Location(name=location_name, project=project)\r\n",
    "    vid = Video(path=video_path, location=location)\r\n",
    "    \r\n",
    "    "
   ],
   "outputs": [],
   "metadata": {}
  },
  {
   "cell_type": "code",
   "execution_count": 7,
   "source": [
    "videos = video.video_paths(data, ['mkv'])\r\n",
    "videos"
   ],
   "outputs": [
    {
     "output_type": "execute_result",
     "data": {
      "text/plain": [
       "['1_Tauberbischofsheim\\\\20190306\\\\17\\\\20190306_171415_5EAF_ACCC8EAE987D\\\\20190307_01\\\\20190307_010534_BEE9.mkv',\n",
       " '1_Tauberbischofsheim\\\\20190306\\\\17\\\\20190306_171415_5EAF_ACCC8EAE987D\\\\20190307_01\\\\20190307_011034_B0E3.mkv',\n",
       " '1_Tauberbischofsheim\\\\20190306\\\\17\\\\20190306_171415_5EAF_ACCC8EAE987D\\\\20190307_01\\\\20190307_012036_B475.mkv',\n",
       " '1_Tauberbischofsheim\\\\20190306\\\\17\\\\20190306_171415_5EAF_ACCC8EAE987D\\\\20190307_01\\\\20190307_011535_FDCB.mkv',\n",
       " '1_Tauberbischofsheim\\\\20190306\\\\17\\\\20190306_171415_5EAF_ACCC8EAE987D\\\\20190307_01\\\\20190307_010033_1492.mkv']"
      ]
     },
     "metadata": {},
     "execution_count": 7
    }
   ],
   "metadata": {}
  },
  {
   "cell_type": "code",
   "execution_count": 11,
   "source": [
    "with Session.begin() as session:\r\n",
    "    project = Project(name='Testproject')\r\n",
    "    session.add(project)\r\n",
    "\r\n",
    "videos = video.video_paths(data, ['mkv'])\r\n",
    "locations = [video.location_from_path(vid) for vid in videos]\r\n",
    "locations_videos = {location: video for location, video in zip(locations, videos)}\r\n",
    "print(locations_videos)\r\n",
    "\r\n",
    "# project = Project(name='Testproject')\r\n",
    "# new_locations = [Location(name=location, project=project) for location in locations]\r\n",
    "# new_videos = [Video(video=path, location=) for path in videos]\r\n",
    "\r\n",
    "# with Session.begin() as session:\r\n",
    "    \r\n",
    "#     session.add(project)\r\n",
    "    # result = session.query(Project).filter(Project.name == 'Testproject').first()\r\n",
    "    # print(result.id, result.name)\r\n",
    "    "
   ],
   "outputs": [
    {
     "output_type": "stream",
     "name": "stdout",
     "text": [
      "2021-07-16 20:22:09,628 INFO sqlalchemy.engine.Engine BEGIN (implicit)\n",
      "2021-07-16 20:22:09,630 INFO sqlalchemy.engine.Engine INSERT INTO projects (name, date_finished) VALUES (?, ?)\n",
      "2021-07-16 20:22:09,630 INFO sqlalchemy.engine.Engine [cached since 4287s ago] ('Testproject', None)\n",
      "2021-07-16 20:22:10,091 INFO sqlalchemy.engine.Engine COMMIT\n",
      "{'1_Tauberbischofsheim': '1_Tauberbischofsheim\\\\20190306\\\\17\\\\20190306_171415_5EAF_ACCC8EAE987D\\\\20190307_01\\\\20190307_010033_1492.mkv'}\n"
     ]
    }
   ],
   "metadata": {}
  },
  {
   "cell_type": "code",
   "execution_count": 4,
   "source": [
    "videos = video.video_paths(data, ['mkv'])\r\n",
    "videos_by_location = video.videos_by_location(0, videos)\r\n",
    "# locations = {video.location_from_path(vid) for vid in videos}\r\n",
    "\r\n",
    "\r\n",
    "project = Project(name='Testproject')\r\n",
    "new_locations = [Location(name=location, project=project) for location in locations]"
   ],
   "outputs": [
    {
     "output_type": "error",
     "ename": "AttributeError",
     "evalue": "'NoneType' object has no attribute 'append'",
     "traceback": [
      "\u001b[1;31m---------------------------------------------------------------------------\u001b[0m",
      "\u001b[1;31mAttributeError\u001b[0m                            Traceback (most recent call last)",
      "\u001b[1;32m<ipython-input-4-c4d7e68a022a>\u001b[0m in \u001b[0;36m<module>\u001b[1;34m\u001b[0m\n\u001b[0;32m      1\u001b[0m \u001b[0mvideos\u001b[0m \u001b[1;33m=\u001b[0m \u001b[0mvideo\u001b[0m\u001b[1;33m.\u001b[0m\u001b[0mvideo_paths\u001b[0m\u001b[1;33m(\u001b[0m\u001b[0mdata\u001b[0m\u001b[1;33m,\u001b[0m \u001b[1;33m[\u001b[0m\u001b[1;34m'mkv'\u001b[0m\u001b[1;33m]\u001b[0m\u001b[1;33m)\u001b[0m\u001b[1;33m\u001b[0m\u001b[1;33m\u001b[0m\u001b[0m\n\u001b[1;32m----> 2\u001b[1;33m \u001b[0mvideos_by_location\u001b[0m \u001b[1;33m=\u001b[0m \u001b[0mvideo\u001b[0m\u001b[1;33m.\u001b[0m\u001b[0mvideos_by_location\u001b[0m\u001b[1;33m(\u001b[0m\u001b[1;36m0\u001b[0m\u001b[1;33m,\u001b[0m \u001b[0mvideos\u001b[0m\u001b[1;33m)\u001b[0m\u001b[1;33m\u001b[0m\u001b[1;33m\u001b[0m\u001b[0m\n\u001b[0m\u001b[0;32m      3\u001b[0m \u001b[1;31m# locations = {video.location_from_path(vid) for vid in videos}\u001b[0m\u001b[1;33m\u001b[0m\u001b[1;33m\u001b[0m\u001b[1;33m\u001b[0m\u001b[0m\n\u001b[0;32m      4\u001b[0m \u001b[1;33m\u001b[0m\u001b[0m\n\u001b[0;32m      5\u001b[0m \u001b[1;33m\u001b[0m\u001b[0m\n",
      "\u001b[1;32mn:\\Mitarbeiter\\Florian\\projects\\CamTrapPy\\camtrappy\\io\\video.py\u001b[0m in \u001b[0;36mvideos_by_location\u001b[1;34m(pos, videos)\u001b[0m\n\u001b[0;32m     20\u001b[0m     \u001b[1;32mfor\u001b[0m \u001b[0mvideo\u001b[0m \u001b[1;32min\u001b[0m \u001b[0mvideos\u001b[0m\u001b[1;33m:\u001b[0m\u001b[1;33m\u001b[0m\u001b[1;33m\u001b[0m\u001b[0m\n\u001b[0;32m     21\u001b[0m         \u001b[0mlocation\u001b[0m \u001b[1;33m=\u001b[0m \u001b[0mlocation_from_path\u001b[0m\u001b[1;33m(\u001b[0m\u001b[0mvideo\u001b[0m\u001b[1;33m,\u001b[0m \u001b[0mpos\u001b[0m\u001b[1;33m)\u001b[0m\u001b[1;33m\u001b[0m\u001b[1;33m\u001b[0m\u001b[0m\n\u001b[1;32m---> 22\u001b[1;33m         \u001b[0md\u001b[0m\u001b[1;33m[\u001b[0m\u001b[0mlocation\u001b[0m\u001b[1;33m]\u001b[0m \u001b[1;33m=\u001b[0m \u001b[0md\u001b[0m\u001b[1;33m.\u001b[0m\u001b[0mget\u001b[0m\u001b[1;33m(\u001b[0m\u001b[0mlocation\u001b[0m\u001b[1;33m,\u001b[0m \u001b[1;33m[\u001b[0m\u001b[1;33m]\u001b[0m\u001b[1;33m)\u001b[0m\u001b[1;33m.\u001b[0m\u001b[0mappend\u001b[0m\u001b[1;33m(\u001b[0m\u001b[0mvideo\u001b[0m\u001b[1;33m)\u001b[0m\u001b[1;33m\u001b[0m\u001b[1;33m\u001b[0m\u001b[0m\n\u001b[0m\u001b[0;32m     23\u001b[0m     \u001b[1;32mreturn\u001b[0m \u001b[0md\u001b[0m\u001b[1;33m\u001b[0m\u001b[1;33m\u001b[0m\u001b[0m\n",
      "\u001b[1;31mAttributeError\u001b[0m: 'NoneType' object has no attribute 'append'"
     ]
    }
   ],
   "metadata": {}
  },
  {
   "cell_type": "code",
   "execution_count": 5,
   "source": [
    "x = new_locations[0]\r\n",
    "x.name, x.project.name"
   ],
   "outputs": [
    {
     "output_type": "error",
     "ename": "DetachedInstanceError",
     "evalue": "Instance <Location at 0x8ce4d90> is not bound to a Session; attribute refresh operation cannot proceed (Background on this error at: http://sqlalche.me/e/14/bhk3)",
     "traceback": [
      "\u001b[1;31m---------------------------------------------------------------------------\u001b[0m",
      "\u001b[1;31mDetachedInstanceError\u001b[0m                     Traceback (most recent call last)",
      "\u001b[1;32m<ipython-input-5-18a17548487f>\u001b[0m in \u001b[0;36m<module>\u001b[1;34m\u001b[0m\n\u001b[0;32m      1\u001b[0m \u001b[0mx\u001b[0m \u001b[1;33m=\u001b[0m \u001b[0mnew_locations\u001b[0m\u001b[1;33m[\u001b[0m\u001b[1;36m0\u001b[0m\u001b[1;33m]\u001b[0m\u001b[1;33m\u001b[0m\u001b[1;33m\u001b[0m\u001b[0m\n\u001b[1;32m----> 2\u001b[1;33m \u001b[0mx\u001b[0m\u001b[1;33m.\u001b[0m\u001b[0mname\u001b[0m\u001b[1;33m,\u001b[0m \u001b[0mx\u001b[0m\u001b[1;33m.\u001b[0m\u001b[0mproject\u001b[0m\u001b[1;33m.\u001b[0m\u001b[0mname\u001b[0m\u001b[1;33m\u001b[0m\u001b[1;33m\u001b[0m\u001b[0m\n\u001b[0m",
      "\u001b[1;32m~\\AppData\\Local\\Continuum\\anaconda3\\envs\\camtrappy-dev\\lib\\site-packages\\sqlalchemy\\orm\\attributes.py\u001b[0m in \u001b[0;36m__get__\u001b[1;34m(self, instance, owner)\u001b[0m\n\u001b[0;32m    478\u001b[0m                     \u001b[0mreplace_context\u001b[0m\u001b[1;33m=\u001b[0m\u001b[0merr\u001b[0m\u001b[1;33m,\u001b[0m\u001b[1;33m\u001b[0m\u001b[1;33m\u001b[0m\u001b[0m\n\u001b[0;32m    479\u001b[0m                 )\n\u001b[1;32m--> 480\u001b[1;33m             \u001b[1;32mreturn\u001b[0m \u001b[0mself\u001b[0m\u001b[1;33m.\u001b[0m\u001b[0mimpl\u001b[0m\u001b[1;33m.\u001b[0m\u001b[0mget\u001b[0m\u001b[1;33m(\u001b[0m\u001b[0mstate\u001b[0m\u001b[1;33m,\u001b[0m \u001b[0mdict_\u001b[0m\u001b[1;33m)\u001b[0m\u001b[1;33m\u001b[0m\u001b[1;33m\u001b[0m\u001b[0m\n\u001b[0m\u001b[0;32m    481\u001b[0m \u001b[1;33m\u001b[0m\u001b[0m\n\u001b[0;32m    482\u001b[0m \u001b[1;33m\u001b[0m\u001b[0m\n",
      "\u001b[1;32m~\\AppData\\Local\\Continuum\\anaconda3\\envs\\camtrappy-dev\\lib\\site-packages\\sqlalchemy\\orm\\attributes.py\u001b[0m in \u001b[0;36mget\u001b[1;34m(self, state, dict_, passive)\u001b[0m\n\u001b[0;32m    924\u001b[0m                     \u001b[1;32mand\u001b[0m \u001b[0mkey\u001b[0m \u001b[1;32min\u001b[0m \u001b[0mstate\u001b[0m\u001b[1;33m.\u001b[0m\u001b[0mexpired_attributes\u001b[0m\u001b[1;33m\u001b[0m\u001b[1;33m\u001b[0m\u001b[0m\n\u001b[0;32m    925\u001b[0m                 ):\n\u001b[1;32m--> 926\u001b[1;33m                     \u001b[0mvalue\u001b[0m \u001b[1;33m=\u001b[0m \u001b[0mstate\u001b[0m\u001b[1;33m.\u001b[0m\u001b[0m_load_expired\u001b[0m\u001b[1;33m(\u001b[0m\u001b[0mstate\u001b[0m\u001b[1;33m,\u001b[0m \u001b[0mpassive\u001b[0m\u001b[1;33m)\u001b[0m\u001b[1;33m\u001b[0m\u001b[1;33m\u001b[0m\u001b[0m\n\u001b[0m\u001b[0;32m    927\u001b[0m                 \u001b[1;32melif\u001b[0m \u001b[0mkey\u001b[0m \u001b[1;32min\u001b[0m \u001b[0mstate\u001b[0m\u001b[1;33m.\u001b[0m\u001b[0mcallables\u001b[0m\u001b[1;33m:\u001b[0m\u001b[1;33m\u001b[0m\u001b[1;33m\u001b[0m\u001b[0m\n\u001b[0;32m    928\u001b[0m                     \u001b[0mcallable_\u001b[0m \u001b[1;33m=\u001b[0m \u001b[0mstate\u001b[0m\u001b[1;33m.\u001b[0m\u001b[0mcallables\u001b[0m\u001b[1;33m[\u001b[0m\u001b[0mkey\u001b[0m\u001b[1;33m]\u001b[0m\u001b[1;33m\u001b[0m\u001b[1;33m\u001b[0m\u001b[0m\n",
      "\u001b[1;32m~\\AppData\\Local\\Continuum\\anaconda3\\envs\\camtrappy-dev\\lib\\site-packages\\sqlalchemy\\orm\\state.py\u001b[0m in \u001b[0;36m_load_expired\u001b[1;34m(self, state, passive)\u001b[0m\n\u001b[0;32m    708\u001b[0m         )\n\u001b[0;32m    709\u001b[0m \u001b[1;33m\u001b[0m\u001b[0m\n\u001b[1;32m--> 710\u001b[1;33m         \u001b[0mself\u001b[0m\u001b[1;33m.\u001b[0m\u001b[0mmanager\u001b[0m\u001b[1;33m.\u001b[0m\u001b[0mexpired_attribute_loader\u001b[0m\u001b[1;33m(\u001b[0m\u001b[0mself\u001b[0m\u001b[1;33m,\u001b[0m \u001b[0mtoload\u001b[0m\u001b[1;33m,\u001b[0m \u001b[0mpassive\u001b[0m\u001b[1;33m)\u001b[0m\u001b[1;33m\u001b[0m\u001b[1;33m\u001b[0m\u001b[0m\n\u001b[0m\u001b[0;32m    711\u001b[0m \u001b[1;33m\u001b[0m\u001b[0m\n\u001b[0;32m    712\u001b[0m         \u001b[1;31m# if the loader failed, or this\u001b[0m\u001b[1;33m\u001b[0m\u001b[1;33m\u001b[0m\u001b[1;33m\u001b[0m\u001b[0m\n",
      "\u001b[1;32m~\\AppData\\Local\\Continuum\\anaconda3\\envs\\camtrappy-dev\\lib\\site-packages\\sqlalchemy\\orm\\loading.py\u001b[0m in \u001b[0;36mload_scalar_attributes\u001b[1;34m(mapper, state, attribute_names, passive)\u001b[0m\n\u001b[0;32m   1365\u001b[0m     \u001b[0msession\u001b[0m \u001b[1;33m=\u001b[0m \u001b[0mstate\u001b[0m\u001b[1;33m.\u001b[0m\u001b[0msession\u001b[0m\u001b[1;33m\u001b[0m\u001b[1;33m\u001b[0m\u001b[0m\n\u001b[0;32m   1366\u001b[0m     \u001b[1;32mif\u001b[0m \u001b[1;32mnot\u001b[0m \u001b[0msession\u001b[0m\u001b[1;33m:\u001b[0m\u001b[1;33m\u001b[0m\u001b[1;33m\u001b[0m\u001b[0m\n\u001b[1;32m-> 1367\u001b[1;33m         raise orm_exc.DetachedInstanceError(\n\u001b[0m\u001b[0;32m   1368\u001b[0m             \u001b[1;34m\"Instance %s is not bound to a Session; \"\u001b[0m\u001b[1;33m\u001b[0m\u001b[1;33m\u001b[0m\u001b[0m\n\u001b[0;32m   1369\u001b[0m             \u001b[1;34m\"attribute refresh operation cannot proceed\"\u001b[0m \u001b[1;33m%\u001b[0m \u001b[1;33m(\u001b[0m\u001b[0mstate_str\u001b[0m\u001b[1;33m(\u001b[0m\u001b[0mstate\u001b[0m\u001b[1;33m)\u001b[0m\u001b[1;33m)\u001b[0m\u001b[1;33m\u001b[0m\u001b[1;33m\u001b[0m\u001b[0m\n",
      "\u001b[1;31mDetachedInstanceError\u001b[0m: Instance <Location at 0x8ce4d90> is not bound to a Session; attribute refresh operation cannot proceed (Background on this error at: http://sqlalche.me/e/14/bhk3)"
     ]
    }
   ],
   "metadata": {}
  }
 ],
 "metadata": {
  "interpreter": {
   "hash": "6ee926b1e0e7e0ca0e59ffe3cba827382fc1db2c8f1cad3f41f44f73cc5d4d8d"
  },
  "kernelspec": {
   "display_name": "Python 3.7.9 64-bit ('base': conda)",
   "name": "python3"
  },
  "language_info": {
   "codemirror_mode": {
    "name": "ipython",
    "version": 3
   },
   "file_extension": ".py",
   "mimetype": "text/x-python",
   "name": "python",
   "nbconvert_exporter": "python",
   "pygments_lexer": "ipython3",
   "version": "3.8.8"
  },
  "orig_nbformat": 4
 },
 "nbformat": 4,
 "nbformat_minor": 2
}