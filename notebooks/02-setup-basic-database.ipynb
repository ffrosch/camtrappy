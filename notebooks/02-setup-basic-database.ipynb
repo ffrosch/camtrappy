{
 "cells": [
  {
   "cell_type": "code",
   "execution_count": null,
   "source": [
    "# # combine sessionmaker Session, with-statement & begin() to start session, handle exceptions, rollback, commit and close at once\r\n",
    "# with Session.begin() as session:\r\n",
    "#     session.add(object)\r\n",
    "#     session.add_all([objects])\r\n",
    "#     result = session.query(Project).filter(Project.name == 'Test').scalar() # scalar is good if only one match is possible due to database constraints"
   ],
   "outputs": [],
   "metadata": {}
  },
  {
   "cell_type": "code",
   "execution_count": null,
   "source": [
    "import settings # type: ignore\r\n",
    "from camtrappy.db.testdb import initialize_new_project\r\n",
    "from camtrappy.io import parsing\r\n",
    "\r\n",
    "if not 'initialized' in locals():\r\n",
    "    # Set data Dir & Data Project (file parser)\r\n",
    "    DATA_DIR = settings.data_dir_animals\r\n",
    "    new_project = parsing.ProjectParser(name='Test', projectfolder=None, datafolder=DATA_DIR, restrict_to=[])\r\n",
    "\r\n",
    "    # Create new db project with parsed data\r\n",
    "    initialize_new_project(new_project)\r\n",
    "    initialized = True"
   ],
   "outputs": [],
   "metadata": {}
  },
  {
   "cell_type": "code",
   "execution_count": null,
   "source": [
    "import settings # type: ignore\r\n",
    "from camtrappy.db.testdb import Session\r\n",
    "from camtrappy.db.schema import Video, Location\r\n",
    "from camtrappy.core.base import VideoList, VideoLoader\r\n",
    "\r\n",
    "with Session.begin() as session:\r\n",
    "    q = session.query(Video)\r\n",
    "r = q.limit(10).all()\r\n",
    "v = r[0]\r\n",
    "print(v.fullpath)\r\n",
    "\r\n",
    "with Session.begin() as session:\r\n",
    "    q = session.query(Video).where(Video.location.has(name='7_Ittlingen')).order_by(Video.date, Video.time)\r\n",
    "r = q.all()\r\n",
    "print(r)"
   ],
   "outputs": [],
   "metadata": {}
  },
  {
   "cell_type": "markdown",
   "source": [
    "# Gutes Setting\r\n",
    "\r\n",
    "gb7 = GaussianBlur((7, 7))\r\n",
    "\r\n",
    "ce = CannyEdge(180, 400)\r\n",
    "\r\n",
    "re = Resize()\r\n",
    "\r\n",
    "bgs_mog = BgsMOG(250, 5, 0.7, 25, -1)\r\n",
    "\r\n",
    "norm = Normalize()\r\n",
    "\r\n",
    "bi = BilateralFilter(9)\r\n",
    "\r\n",
    "base_transforms = [re]\r\n",
    "\r\n",
    "compare_transforms = [bi, norm, bgs_mog, gb7, ce]  # ce is not so good for findContours"
   ],
   "metadata": {}
  },
  {
   "cell_type": "code",
   "execution_count": 7,
   "source": [
    "import settings # type: ignore\r\n",
    "from camtrappy.db.testdb import Session\r\n",
    "from camtrappy.core.base import VideoLoader, VideoPlayer\r\n",
    "from camtrappy.core.transforms import (CannyEdge, GaussianBlur, TransformFactory,\r\n",
    "                                       AdaptiveHistogram, Resize, Gamma, Hysteresis,\r\n",
    "                                       BGS, Normalize, BilateralFilter, AdaptiveThreshold,\r\n",
    "                                       BgsMOG, Threshold)\r\n",
    "\r\n",
    "from camtrappy.core.analysis import CentroidTracker\r\n",
    "\r\n",
    "at = AdaptiveThreshold(7, 3)\r\n",
    "ah = AdaptiveHistogram(2, (12, 12))\r\n",
    "gb3 = GaussianBlur((3, 3))\r\n",
    "ce = CannyEdge(180, 400)\r\n",
    "gamma = Gamma(0.25)\r\n",
    "hyst = Hysteresis(0.15, 0.20)\r\n",
    "bgs1 = BGS('KNN', 0.1)\r\n",
    "bgs2 = BGS('KNN', 0.8)\r\n",
    "\r\n",
    "\r\n",
    "bi = BilateralFilter(9) # smoothing that keeps the edges\r\n",
    "norm = Normalize() # a little bit homogenization\r\n",
    "bgs_mog = BgsMOG(hist=250, nmixtures=5, background_ratio=0.7,\r\n",
    "                 noise=25, learningrate=-1) # background subtractor\r\n",
    "gb7 = GaussianBlur((7, 7)) # some more smoothing\r\n",
    "thr = Threshold(50, 'tozero') # eliminate some more noise\r\n",
    "\r\n",
    "\r\n",
    "transforms = TransformFactory([bi, norm, bgs_mog, gb7, thr])\r\n",
    "\r\n",
    "vl = VideoLoader(Session, 3, skip_n_frames=0) #, transforms=transforms)\r\n",
    "object_tracker = CentroidTracker(min_area=30, eps=1.5, maxDisappeared=50)\r\n",
    "VideoPlayer(vl).play(resize=Resize(), transforms=transforms, visitor=object_tracker, compare=True)"
   ],
   "outputs": [
    {
     "output_type": "stream",
     "name": "stdout",
     "text": [
      "2021-08-03 18:04:10,911 INFO sqlalchemy.engine.Engine BEGIN (implicit)\n",
      "2021-08-03 18:04:10,913 INFO sqlalchemy.engine.Engine SELECT videos.id AS videos_id, videos.path AS videos_path, videos.date AS videos_date, videos.time AS videos_time, videos.fps AS videos_fps, videos.duration AS videos_duration, videos.date_added AS videos_date_added, videos.location_id AS videos_location_id, (SELECT projects.datafolder \n",
      "FROM projects, locations \n",
      "WHERE projects.id = locations.project_id AND locations.id = videos.location_id) AS anon_1, (SELECT locations.folder \n",
      "FROM locations \n",
      "WHERE locations.id = videos.location_id) AS anon_2, (SELECT projects.datafolder \n",
      "FROM projects, locations \n",
      "WHERE projects.id = locations.project_id AND locations.id = videos.location_id) || ? || (SELECT locations.folder \n",
      "FROM locations \n",
      "WHERE locations.id = videos.location_id) || ? || videos.path AS anon_3 \n",
      "FROM videos \n",
      "WHERE videos.location_id = ? ORDER BY videos.date, videos.time\n",
      "2021-08-03 18:04:10,913 INFO sqlalchemy.engine.Engine [cached since 8.741e+04s ago] ('\\\\', '\\\\', 3)\n"
     ]
    }
   ],
   "metadata": {}
  },
  {
   "cell_type": "code",
   "execution_count": 41,
   "source": [
    "from __future__ import annotations\r\n",
    "from typing import TYPE_CHECKING\r\n",
    "\r\n",
    "from dataclasses import dataclass, field\r\n",
    "from collections import OrderedDict\r\n",
    "\r\n",
    "@dataclass\r\n",
    "class Object:\r\n",
    "\r\n",
    "    id: int\r\n",
    "    _data: OrderedDict = field(default_factory=OrderedDict)\r\n",
    "\r\n",
    "    def add(self, video_id, frame_no, bbox, centroid):\r\n",
    "        video = self._data.setdefault(video_id, OrderedDict())\r\n",
    "        video.setdefault('frames', list()).append(frame_no)\r\n",
    "        video.setdefault('bboxes', list()).append(bbox)\r\n",
    "        video.setdefault('centroids', list()).append(centroid)\r\n",
    "\r\n",
    "    def bboxes(self, video_id):\r\n",
    "        return self._data[video_id]['bboxes']\r\n",
    "        \r\n",
    "    def centroids(self, video_id):\r\n",
    "        return self._data[video_id]['centroids']\r\n",
    "\r\n",
    "    def frames(self, video_id):\r\n",
    "        return self._data[video_id]['frames']\r\n",
    "\r\n",
    "    @property\r\n",
    "    def last_bbox(self):\r\n",
    "        video_id = next(reversed(self._data))\r\n",
    "        return self.bboxes(video_id)[-1]\r\n",
    "\r\n",
    "    @property\r\n",
    "    def last_centroid(self):\r\n",
    "        video_id = next(reversed(self._data))\r\n",
    "        return self.centroids(video_id)[-1]\r\n",
    "\r\n",
    "    @property\r\n",
    "    def video_ids(self):\r\n",
    "        return list(self._data.keys())\r\n",
    "\r\n",
    "\r\n",
    "@dataclass\r\n",
    "class Objects:\r\n",
    "\r\n",
    "    next_object_id: int = 0\r\n",
    "    finished_objects: OrderedDict[int, Object] = field(default_factory=OrderedDict)\r\n",
    "    current_objects: OrderedDict[int, Object] = field(default_factory=OrderedDict)\r\n",
    "    disappeared_objects: OrderedDict[int, Object] = field(default_factory=OrderedDict)\r\n",
    "\r\n",
    "    def register(self, video_id, frame_no, bbox, centroid):\r\n",
    "        id = self.next_object_id\r\n",
    "        self.current_objects.\\\r\n",
    "            setdefault(id, Object(id)).\\\r\n",
    "            add(video_id, frame_no, bbox, centroid)\r\n",
    "            \r\n",
    "        self.disappeared_objects[id] = 0\r\n",
    "        self.next_object_id += 1\r\n",
    "\r\n",
    "    def deregister(self, object_id):\r\n",
    "        self.finished_objects[object_id] = self.current_objects[object_id]\r\n",
    "        \r\n",
    "        del self.current_objects[object_id]\r\n",
    "        del self.disappeared_objects[object_id]\r\n",
    "\r\n",
    "    def save_to_db(self):\r\n",
    "        \"\"\"Pop all items in self.finished_objects and push to database.\"\"\"\r\n",
    "        pass\r\n",
    "    \r\n",
    "# o = Objects()\r\n",
    "# o.register(1, 200, (1,2,3,4), (0,10))\r\n",
    "# o.deregister(0)\r\n",
    "# o\r\n",
    "\r\n",
    "o = Object(1)\r\n",
    "o.add(10, 200, (1,2,3,4), (0, 10))\r\n",
    "o.last_centroid"
   ],
   "outputs": [
    {
     "output_type": "execute_result",
     "data": {
      "text/plain": [
       "(0, 10)"
      ]
     },
     "metadata": {},
     "execution_count": 41
    }
   ],
   "metadata": {}
  }
 ],
 "metadata": {
  "interpreter": {
   "hash": "6f3dbcc7f603f5b8c839717ecf6837391c5c03f7d101a6da87acb9b6b0bad1b8"
  },
  "kernelspec": {
   "name": "python3",
   "display_name": "Python 3.8.8 64-bit ('camtrappy-dev': conda)"
  },
  "language_info": {
   "codemirror_mode": {
    "name": "ipython",
    "version": 3
   },
   "file_extension": ".py",
   "mimetype": "text/x-python",
   "name": "python",
   "nbconvert_exporter": "python",
   "pygments_lexer": "ipython3",
   "version": "3.8.8"
  },
  "orig_nbformat": 4
 },
 "nbformat": 4,
 "nbformat_minor": 2
}