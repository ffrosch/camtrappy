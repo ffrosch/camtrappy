{
 "cells": [
  {
   "cell_type": "code",
   "execution_count": 13,
   "metadata": {},
   "outputs": [
    {
     "data": {
      "text/plain": [
       "3"
      ]
     },
     "execution_count": 13,
     "metadata": {},
     "output_type": "execute_result"
    }
   ],
   "source": [
    "class Test:\n",
    "    __slots__ = ('a',)\n",
    "    def __init__(self, a):\n",
    "        self.a = a\n",
    "    \n",
    "t = Test(2)\n",
    "t.a = 3\n",
    "t.a"
   ]
  },
  {
   "cell_type": "code",
   "execution_count": 103,
   "metadata": {},
   "outputs": [
    {
     "data": {
      "text/plain": [
       "4"
      ]
     },
     "execution_count": 103,
     "metadata": {},
     "output_type": "execute_result"
    }
   ],
   "source": [
    "from dataclasses import dataclass\n",
    "\n",
    "@dataclass\n",
    "class X:\n",
    "    __slots__ = ('a', 'b')\n",
    "    a: int\n",
    "    \n",
    "    def __post_init__(self):\n",
    "        self.b = 2\n",
    "    \n",
    "_ = X(2)\n",
    "_.a = 3\n",
    "_.a\n",
    "_.b = 4\n",
    "_.b"
   ]
  },
  {
   "cell_type": "code",
   "execution_count": 105,
   "metadata": {},
   "outputs": [
    {
     "ename": "AttributeError",
     "evalue": "Cannot overwrite NamedTuple attribute __slots__",
     "output_type": "error",
     "traceback": [
      "\u001b[1;31m---------------------------------------------------------------------------\u001b[0m",
      "\u001b[1;31mAttributeError\u001b[0m                            Traceback (most recent call last)",
      "\u001b[1;32m<ipython-input-105-bd6308cb72c9>\u001b[0m in \u001b[0;36m<module>\u001b[1;34m\u001b[0m\n\u001b[0;32m     44\u001b[0m \u001b[1;33m\u001b[0m\u001b[0m\n\u001b[0;32m     45\u001b[0m \u001b[1;33m\u001b[0m\u001b[0m\n\u001b[1;32m---> 46\u001b[1;33m \u001b[1;32mclass\u001b[0m \u001b[0mMetadata\u001b[0m\u001b[1;33m(\u001b[0m\u001b[0mNamedTuple\u001b[0m\u001b[1;33m)\u001b[0m\u001b[1;33m:\u001b[0m\u001b[1;33m\u001b[0m\u001b[1;33m\u001b[0m\u001b[0m\n\u001b[0m\u001b[0;32m     47\u001b[0m     \u001b[0m__slots__\u001b[0m \u001b[1;33m=\u001b[0m \u001b[1;33m(\u001b[0m\u001b[1;33m)\u001b[0m\u001b[1;33m\u001b[0m\u001b[1;33m\u001b[0m\u001b[0m\n\u001b[0;32m     48\u001b[0m     \u001b[0mpath\u001b[0m\u001b[1;33m:\u001b[0m \u001b[0mstr\u001b[0m \u001b[1;33m=\u001b[0m \u001b[1;32mNone\u001b[0m\u001b[1;33m\u001b[0m\u001b[1;33m\u001b[0m\u001b[0m\n",
      "\u001b[1;32m~\\AppData\\Local\\Continuum\\anaconda3\\envs\\camtrappy-dev\\lib\\typing.py\u001b[0m in \u001b[0;36m__new__\u001b[1;34m(cls, typename, bases, ns)\u001b[0m\n\u001b[0;32m   1636\u001b[0m         \u001b[1;32mfor\u001b[0m \u001b[0mkey\u001b[0m \u001b[1;32min\u001b[0m \u001b[0mns\u001b[0m\u001b[1;33m:\u001b[0m\u001b[1;33m\u001b[0m\u001b[1;33m\u001b[0m\u001b[0m\n\u001b[0;32m   1637\u001b[0m             \u001b[1;32mif\u001b[0m \u001b[0mkey\u001b[0m \u001b[1;32min\u001b[0m \u001b[0m_prohibited\u001b[0m\u001b[1;33m:\u001b[0m\u001b[1;33m\u001b[0m\u001b[1;33m\u001b[0m\u001b[0m\n\u001b[1;32m-> 1638\u001b[1;33m                 \u001b[1;32mraise\u001b[0m \u001b[0mAttributeError\u001b[0m\u001b[1;33m(\u001b[0m\u001b[1;34m\"Cannot overwrite NamedTuple attribute \"\u001b[0m \u001b[1;33m+\u001b[0m \u001b[0mkey\u001b[0m\u001b[1;33m)\u001b[0m\u001b[1;33m\u001b[0m\u001b[1;33m\u001b[0m\u001b[0m\n\u001b[0m\u001b[0;32m   1639\u001b[0m             \u001b[1;32melif\u001b[0m \u001b[0mkey\u001b[0m \u001b[1;32mnot\u001b[0m \u001b[1;32min\u001b[0m \u001b[0m_special\u001b[0m \u001b[1;32mand\u001b[0m \u001b[0mkey\u001b[0m \u001b[1;32mnot\u001b[0m \u001b[1;32min\u001b[0m \u001b[0mnm_tpl\u001b[0m\u001b[1;33m.\u001b[0m\u001b[0m_fields\u001b[0m\u001b[1;33m:\u001b[0m\u001b[1;33m\u001b[0m\u001b[1;33m\u001b[0m\u001b[0m\n\u001b[0;32m   1640\u001b[0m                 \u001b[0msetattr\u001b[0m\u001b[1;33m(\u001b[0m\u001b[0mnm_tpl\u001b[0m\u001b[1;33m,\u001b[0m \u001b[0mkey\u001b[0m\u001b[1;33m,\u001b[0m \u001b[0mns\u001b[0m\u001b[1;33m[\u001b[0m\u001b[0mkey\u001b[0m\u001b[1;33m]\u001b[0m\u001b[1;33m)\u001b[0m\u001b[1;33m\u001b[0m\u001b[1;33m\u001b[0m\u001b[0m\n",
      "\u001b[1;31mAttributeError\u001b[0m: Cannot overwrite NamedTuple attribute __slots__"
     ]
    }
   ],
   "source": [
    "from enum import Enum\n",
    "from datetime import datetime\n",
    "from typing import NamedTuple\n",
    "\n",
    "class Seperator(Enum):\n",
    "    EMPTY = ''\n",
    "    HYPHEN = '-'\n",
    "    UNDERSCORE = '_'\n",
    "\n",
    "\n",
    "class DatePattern(Enum):\n",
    "    YYYYMMDD = '%Y%m%d'\n",
    "\n",
    "\n",
    "class TimePattern(Enum):\n",
    "    HHmmss = '%H%M%S'\n",
    "\n",
    "\n",
    "@dataclass\n",
    "class DatetimeParser:\n",
    "    __slots__ = ('date', 'time', 'seperator', 'from_beginning')\n",
    "    date: DatePattern\n",
    "    time: TimePattern\n",
    "    seperator: Seperator\n",
    "    from_beginning: bool  # True = datetime is at the beginning of the filename, False = it's at the end\n",
    "\n",
    "    def __str__(self) -> str:\n",
    "        now = datetime.now()\n",
    "        pattern = self._format()\n",
    "        string = now.strftime(pattern)\n",
    "        return string\n",
    "\n",
    "    def _format(self) -> str:\n",
    "        pattern = self.date.value + self.seperator.value + self.time.value\n",
    "        return pattern\n",
    "\n",
    "    def demo(self):\n",
    "        return self.__str__()\n",
    "\n",
    "    def str_to_datetime(self, string) -> datetime:\n",
    "        pattern = self._format()\n",
    "        dtime = datetime.strptime(string, pattern)\n",
    "        return dtime\n",
    "\n",
    "\n",
    "class Metadata(NamedTuple):\n",
    "    path: str = None\n",
    "    filename: str = None\n",
    "    format: str = None\n",
    "    starttime: datetime = None\n",
    "    endtime: datetime = None\n",
    "    fps: float = None\n",
    "    width: int = None\n",
    "    height: int = None\n",
    "    format: str = None\n",
    "    recording_token: str = None\n",
    "    recordingblock_token: str = None\n",
    "    status: str = None\n",
    "\n",
    "\n",
    "class VideoFile(NamedTuple):\n",
    "    __slots__ = ('path', 'metadata_videofile', 'metadata_sidecarfile')\n",
    "    path: str\n",
    "    metadata_videofile: Metadata = Metadata()\n",
    "    metadata_sidecarfile: Metadata = Metadata()\n",
    "\n",
    "    def metadata_from_videofile(self, datetime_parser: DatetimeParser, seperator: Seperator) -> None:\n",
    "        path = Path(self.path)\n",
    "        filename = path.name\n",
    "        format = path.suffix\n",
    "\n",
    "        # get datetime\n",
    "        parts = filename.split(seperator.value)\n",
    "        datetime_seperator = datetime_parser.seperator\n",
    "\n",
    "        datetime_is_continuous = (datetime_seperator == Seperator.EMPTY) or (datetime_seperator != seperator)\n",
    "        if datetime_parser.from_beginning:\n",
    "            if datetime_is_continuous:\n",
    "                datetime_string = parts[0]\n",
    "            else:\n",
    "                datetime_string = datetime_seperator.value.join((parts[0], parts[1]))\n",
    "        else:\n",
    "            if datetime_is_continuous:\n",
    "                datetime_string = parts[-1]\n",
    "            else:\n",
    "                datetime_string = datetime_seperator.value.join((parts[-2], parts[-1]))\n",
    "\n",
    "        starttime = datetime_parser.str_to_datetime(datetime_string)\n",
    "\n",
    "        meta = self.metadata_videofile\n",
    "        meta.path = path\n",
    "        meta.filename = filename\n",
    "        meta.format = format\n",
    "        meta.starttime = starttime\n",
    "\n",
    "    def metadata_from_sidecarfile(self) -> None:\n",
    "        pass"
   ]
  },
  {
   "cell_type": "code",
   "execution_count": 106,
   "metadata": {},
   "outputs": [],
   "source": [
    "class Metadata(NamedTuple):\n",
    "    path: str = None\n",
    "    filename: str = None\n",
    "    format: str = None\n",
    "    starttime: datetime = None\n",
    "    endtime: datetime = None\n",
    "    fps: float = None\n",
    "    width: int = None\n",
    "    height: int = None\n",
    "    format: str = None\n",
    "    recording_token: str = None\n",
    "    recordingblock_token: str = None\n",
    "    status: str = None"
   ]
  },
  {
   "cell_type": "code",
   "execution_count": 109,
   "metadata": {},
   "outputs": [],
   "source": [
    "m = Metadata()\n",
    "m.path"
   ]
  },
  {
   "cell_type": "code",
   "execution_count": 99,
   "metadata": {},
   "outputs": [
    {
     "data": {
      "text/plain": [
       "datetime.datetime(2018, 9, 16, 5, 55, 3)"
      ]
     },
     "execution_count": 99,
     "metadata": {},
     "output_type": "execute_result"
    }
   ],
   "source": [
    "from pathlib import Path\n",
    "\n",
    "p = Path(r\"N:\\Mitarbeiter\\Florian\\anaconda3\\WBKamera\\WBKameraTestvids\\18_Ichenheim\\20180915\\18\\20180915_183000_8E51_00408CC568E0\\20180916_05\\20180916_055503_DF5A_00408CC568E0.mkv\")\n",
    "m = DatetimeParser(DatePattern.YYYYMMDD, TimePattern.HHmmss, Seperator.UNDERSCORE, from_beginning=True)\n",
    "\n",
    "vf = VideoFile(p, Seperator.UNDERSCORE, m)\n",
    "vf.metadata_from_videofile()"
   ]
  },
  {
   "cell_type": "code",
   "execution_count": 118,
   "metadata": {},
   "outputs": [
    {
     "data": {
      "text/plain": [
       "datetime.datetime(2018, 9, 16, 3, 55, 3, tzinfo=tzutc())"
      ]
     },
     "execution_count": 118,
     "metadata": {},
     "output_type": "execute_result"
    }
   ],
   "source": [
    "import dateutil\n",
    "\n",
    "datestring = meta['format']['tags']['creation_time']\n",
    "dateutil.parser.isoparse(datestring)"
   ]
  },
  {
   "cell_type": "code",
   "execution_count": 133,
   "metadata": {},
   "outputs": [
    {
     "name": "stdout",
     "output_type": "stream",
     "text": [
      "768 576 30 2018-09-16 03:55:03+00:00 2018-09-16 04:00:03.088925+00:00 300.088925\n"
     ]
    }
   ],
   "source": [
    "import ffmpeg\n",
    "import dateutil\n",
    "import datetime\n",
    "\n",
    "meta = ffmpeg.probe(p)\n",
    "width = int(meta['streams'][0]['width'])\n",
    "height = int(meta['streams'][0]['height'])\n",
    "fps = int(meta['streams'][0]['avg_frame_rate'].split('/')[0])\n",
    "duration = float(meta['format']['duration'])\n",
    "starttime = dateutil.parser.isoparse(meta['format']['tags']['creation_time'])\n",
    "endtime = starttime + datetime.timedelta(seconds=duration)\n",
    "print(width, height, fps, starttime, endtime, duration)"
   ]
  },
  {
   "cell_type": "code",
   "execution_count": 132,
   "metadata": {},
   "outputs": [
    {
     "data": {
      "text/plain": [
       "datetime.datetime(2018, 9, 16, 4, 0, 3, 88925, tzinfo=tzutc())"
      ]
     },
     "execution_count": 132,
     "metadata": {},
     "output_type": "execute_result"
    }
   ],
   "source": [
    "starttime + datetime.timedelta(seconds=duration)"
   ]
  },
  {
   "cell_type": "code",
   "execution_count": 84,
   "metadata": {},
   "outputs": [
    {
     "data": {
      "text/plain": [
       "datetime.datetime(2018, 9, 16, 5, 55, 3)"
      ]
     },
     "execution_count": 84,
     "metadata": {},
     "output_type": "execute_result"
    }
   ],
   "source": [
    "m = DatetimeParser(DatePattern.YYYYMMDD, TimePattern.HHmmss, Seperator.UNDERSCORE, from_beginning=True)\n",
    "m.str_to_datetime('20180916_055503')"
   ]
  },
  {
   "cell_type": "code",
   "execution_count": 77,
   "metadata": {},
   "outputs": [
    {
     "data": {
      "text/plain": [
       "True"
      ]
     },
     "execution_count": 77,
     "metadata": {},
     "output_type": "execute_result"
    }
   ],
   "source": [
    "m.seperator == Seperator.UNDERSCORE"
   ]
  },
  {
   "cell_type": "code",
   "execution_count": 151,
   "metadata": {},
   "outputs": [
    {
     "data": {
      "text/plain": [
       "WindowsPath('N:/Mitarbeiter/Florian/anaconda3/WBKamera/WBKameraTestvids/18_Ichenheim/20180915/18/20180915_183000_8E51_00408CC568E0/20180916_05/20180916_055503_DF5A_00408CC568E0.xml')"
      ]
     },
     "execution_count": 151,
     "metadata": {},
     "output_type": "execute_result"
    }
   ],
   "source": [
    "from pathlib import Path\n",
    "\n",
    "p = Path(r\"N:\\Mitarbeiter\\Florian\\anaconda3\\WBKamera\\WBKameraTestvids\\18_Ichenheim\\20180915\\18\\20180915_183000_8E51_00408CC568E0\\20180916_05\\20180916_055503_DF5A_00408CC568E0.mkv\")\n",
    "filename = p.stem\n",
    "\n",
    "xml = p.with_suffix('.xml')\n",
    "xml"
   ]
  },
  {
   "cell_type": "code",
   "execution_count": 185,
   "metadata": {},
   "outputs": [],
   "source": [
    "from typing import Optional\n",
    "from datetime import datetime\n",
    "\n",
    "class Metadata:\n",
    "    __slots__ = ('starttime', 'stoptime', 'fps', 'width', 'height', 'status')\n",
    "    aliases = {\n",
    "        'endtime': 'stoptime'\n",
    "    }\n",
    "\n",
    "    def __init__(\n",
    "            self,\n",
    "            starttime: Optional[datetime] = None,\n",
    "            stoptime: Optional[datetime] = None,\n",
    "            fps: Optional[float] = None,\n",
    "            width: Optional[int] = None,\n",
    "            height: Optional[int] = None,\n",
    "            status: Optional[str] = None\n",
    "        ):\n",
    "\n",
    "        self.starttime = starttime\n",
    "        self.stoptime = stoptime\n",
    "        self.fps = fps\n",
    "        self.width = width\n",
    "        self.height = height\n",
    "        self.status = status\n",
    "\n",
    "    def __setattr__(self, name, value):\n",
    "        name = self.aliases.get(name, name)\n",
    "        object.__setattr__(self, name, value)\n",
    "\n",
    "    def __getattr__(self, name):\n",
    "        if name == 'aliases':\n",
    "            raise AttributeError  # http://nedbatchelder.com/blog/201010/surprising_getattr_recursion.html\n",
    "        name = self.aliases.get(name, name)\n",
    "        return object.__getattribute__(self, name)"
   ]
  },
  {
   "cell_type": "code",
   "execution_count": 246,
   "metadata": {},
   "outputs": [],
   "source": [
    "projectfolder = Path(r\"N:\\Mitarbeiter\\Florian\\projects\\CamTrapPy\\tests\\projectstructure\\Projekt1\")\n",
    "\n",
    "from glob import glob\n",
    "glob(str(projectfolder) + '/*/*/')\n",
    "\n",
    "projectfolder = Path(r\"N:\\Projekte\\BASt_Wirksamkeit_Wildwarnanlagen_1754\")\n",
    "\n",
    "locationfolders_subpath = 'Daten\\Feldarbeit'\n",
    "locationfolders = [Path(path) for path in glob(str(projectfolder / locationfolders_subpath) + '/*/')]\n",
    "\n",
    "videofolders_subpath = 'Waermebildkameras'\n",
    "if videofolders_subpath is not None:\n",
    "    videofolders = [path / videofolders_subpath for path in locationfolders]\n",
    "else:\n",
    "    videofolders = locationfolders\n",
    "    \n",
    "sessions = True\n",
    "sessionfolders = {}\n",
    "if sessions:\n",
    "    for i, folder in enumerate(videofolders):\n",
    "        paths = [Path(path) for path in glob(str(folder) + '/*/')]\n",
    "        if paths:\n",
    "            location = locationfolders[i].name\n",
    "            sessionfolders[location] = paths\n",
    "\n",
    "sublocations = True\n",
    "sublocationfolders = {}\n",
    "if sublocations:\n",
    "    for location, paths in sessionfolders.items():\n",
    "        sublocationfolders[location] = {}\n",
    "        for path in paths:\n",
    "            session = path.name\n",
    "            paths = [Path(path) for path in glob(str(path) + '/*/')]\n",
    "            sublocationfolders[location][session] = paths"
   ]
  },
  {
   "cell_type": "code",
   "execution_count": 247,
   "metadata": {},
   "outputs": [
    {
     "data": {
      "text/plain": [
       "{'Aglasterhausen B292': {'session 1': [WindowsPath('N:/Projekte/BASt_Wirksamkeit_Wildwarnanlagen_1754/Daten/Feldarbeit/Aglasterhausen B292/Waermebildkameras/session 1/auxfiles'),\n",
       "   WindowsPath('N:/Projekte/BASt_Wirksamkeit_Wildwarnanlagen_1754/Daten/Feldarbeit/Aglasterhausen B292/Waermebildkameras/session 1/wwa_B292_W_1_2'),\n",
       "   WindowsPath('N:/Projekte/BASt_Wirksamkeit_Wildwarnanlagen_1754/Daten/Feldarbeit/Aglasterhausen B292/Waermebildkameras/session 1/wwa_B292_W_2_1'),\n",
       "   WindowsPath('N:/Projekte/BASt_Wirksamkeit_Wildwarnanlagen_1754/Daten/Feldarbeit/Aglasterhausen B292/Waermebildkameras/session 1/wwa_B292_W_2_2'),\n",
       "   WindowsPath('N:/Projekte/BASt_Wirksamkeit_Wildwarnanlagen_1754/Daten/Feldarbeit/Aglasterhausen B292/Waermebildkameras/session 1/events'),\n",
       "   WindowsPath('N:/Projekte/BASt_Wirksamkeit_Wildwarnanlagen_1754/Daten/Feldarbeit/Aglasterhausen B292/Waermebildkameras/session 1/wwa_B292_W_1_1')],\n",
       "  '20210628_11 Aufhängung': [],\n",
       "  'session 2': [WindowsPath('N:/Projekte/BASt_Wirksamkeit_Wildwarnanlagen_1754/Daten/Feldarbeit/Aglasterhausen B292/Waermebildkameras/session 2/Q1921 Teil 1'),\n",
       "   WindowsPath('N:/Projekte/BASt_Wirksamkeit_Wildwarnanlagen_1754/Daten/Feldarbeit/Aglasterhausen B292/Waermebildkameras/session 2/wwa_b292_w_1_1.2'),\n",
       "   WindowsPath('N:/Projekte/BASt_Wirksamkeit_Wildwarnanlagen_1754/Daten/Feldarbeit/Aglasterhausen B292/Waermebildkameras/session 2/wwa_b292_w_1_2.2'),\n",
       "   WindowsPath('N:/Projekte/BASt_Wirksamkeit_Wildwarnanlagen_1754/Daten/Feldarbeit/Aglasterhausen B292/Waermebildkameras/session 2/wwa_b292_w_2_1.2'),\n",
       "   WindowsPath('N:/Projekte/BASt_Wirksamkeit_Wildwarnanlagen_1754/Daten/Feldarbeit/Aglasterhausen B292/Waermebildkameras/session 2/wwa_b292_w_2_2.2')]},\n",
       " 'Kleve L484': {'session1': [WindowsPath('N:/Projekte/BASt_Wirksamkeit_Wildwarnanlagen_1754/Daten/Feldarbeit/Kleve L484/Waermebildkameras/session1/wwa-L484-W-1-1'),\n",
       "   WindowsPath('N:/Projekte/BASt_Wirksamkeit_Wildwarnanlagen_1754/Daten/Feldarbeit/Kleve L484/Waermebildkameras/session1/wwa-L484-W-1-2')]}}"
      ]
     },
     "execution_count": 247,
     "metadata": {},
     "output_type": "execute_result"
    }
   ],
   "source": [
    "sublocationfolders"
   ]
  },
  {
   "cell_type": "code",
   "execution_count": 184,
   "metadata": {},
   "outputs": [
    {
     "data": {
      "text/plain": [
       "'2018-09-16T03:55:03.262206Z'"
      ]
     },
     "execution_count": 184,
     "metadata": {},
     "output_type": "execute_result"
    }
   ],
   "source": [
    "import xml.etree.ElementTree as ET\n",
    "\n",
    "def parse(xml):\n",
    "    if not xml.is_file():\n",
    "        return\n",
    "\n",
    "    meta = Metadata()\n",
    "    \n",
    "    tree = ET.parse(xml)\n",
    "    root = tree.getroot()\n",
    "    for child in root:\n",
    "        tag = child.tag.lower()\n",
    "        if tag in Metadata.__slots__:\n",
    "            setattr(meta, tag, child.text)\n",
    "            \n",
    "    return meta\n",
    "        \n",
    "meta = parse(xml)\n",
    "meta.starttime"
   ]
  },
  {
   "cell_type": "code",
   "execution_count": 174,
   "metadata": {},
   "outputs": [
    {
     "data": {
      "text/plain": [
       "('path',\n",
       " 'filename',\n",
       " 'format',\n",
       " 'starttime',\n",
       " 'endtime',\n",
       " 'fps',\n",
       " 'width',\n",
       " 'height',\n",
       " 'format',\n",
       " 'recording_token',\n",
       " 'recordingblock_token',\n",
       " 'status')"
      ]
     },
     "execution_count": 174,
     "metadata": {},
     "output_type": "execute_result"
    }
   ],
   "source": [
    "Metadata.__slots__"
   ]
  }
 ],
 "metadata": {
  "interpreter": {
   "hash": "6f3dbcc7f603f5b8c839717ecf6837391c5c03f7d101a6da87acb9b6b0bad1b8"
  },
  "kernelspec": {
   "display_name": "Python 3.8.8 64-bit ('camtrappy-dev': conda)",
   "language": "python",
   "name": "python3"
  },
  "language_info": {
   "codemirror_mode": {
    "name": "ipython",
    "version": 3
   },
   "file_extension": ".py",
   "mimetype": "text/x-python",
   "name": "python",
   "nbconvert_exporter": "python",
   "pygments_lexer": "ipython3",
   "version": "3.8.8"
  },
  "orig_nbformat": 4
 },
 "nbformat": 4,
 "nbformat_minor": 2
}
