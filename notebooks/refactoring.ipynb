{
 "cells": [
  {
   "cell_type": "code",
   "execution_count": 2,
   "metadata": {},
   "outputs": [
    {
     "name": "stdout",
     "output_type": "stream",
     "text": [
      "720 576 15 2021-06-28 09:30:11.887511+00:00 2021-06-28 09:35:12.664700+00:00 300.777189\n"
     ]
    }
   ],
   "source": [
    "import ffmpeg\n",
    "import dateutil\n",
    "import datetime\n",
    "\n",
    "path = r\"N:\\Projekte\\BASt_Wirksamkeit_Wildwarnanlagen_1754\\Daten\\Feldarbeit\\Aglasterhausen B292\\Waermebildkameras\\session 1\\wwa_B292_W_1_1\\20210628\\11\\20210628_112010_8E7A_ACCC8EAE987D\\20210628_11\\20210628_113011_678E.mkv\"\n",
    "meta = ffmpeg.probe(path)\n",
    "width = int(meta['streams'][0]['width'])\n",
    "height = int(meta['streams'][0]['height'])\n",
    "fps = int(meta['streams'][0]['avg_frame_rate'].split('/')[0])\n",
    "duration = float(meta['format']['duration'])\n",
    "starttime = dateutil.parser.isoparse(meta['format']['tags']['creation_time'])\n",
    "endtime = starttime + datetime.timedelta(seconds=duration)\n",
    "print(width, height, fps, starttime, endtime, duration)"
   ]
  },
  {
   "cell_type": "markdown",
   "metadata": {},
   "source": [
    "## Ergebnis der dritten Iteration der Klasse \"Project\""
   ]
  },
  {
   "cell_type": "code",
   "execution_count": 1,
   "metadata": {},
   "outputs": [
    {
     "name": "stdout",
     "output_type": "stream",
     "text": [
      "home:      n:\\Projekte\\Datenmanagement\\Projekte\\Wärmebildkamera-Analyse\\CamTrapPy\n",
      "data:      n:\\Projekte\\Datenmanagement\\Projekte\\Wärmebildkamera-Analyse\\CamTrapPy\\tests\\data\n",
      "notebooks: n:\\Projekte\\Datenmanagement\\Projekte\\Wärmebildkamera-Analyse\\CamTrapPy\\notebooks\n",
      "--Setup complete--\n",
      "Number of Videos: 10108\n",
      "First Video: VideoFile(path='N:\\\\Projekte\\\\BASt_Wirksamkeit_Wildwarnanlagen_1754\\\\Daten\\\\Feldarbeit\\\\Aglasterhausen B292\\\\Waermebildkameras\\\\session 1\\\\wwa_B292_W_1_2\\\\20210716\\\\09\\\\20210716_092659_89CA_ACCC8EA768A4\\\\20210719_03\\\\20210719_033752_056B.mkv', location='Aglasterhausen B292', sublocation='wwa_B292_W_1_2', session='session 1', camera_no=None)\n"
     ]
    }
   ],
   "source": [
    "import settings\n",
    "from camtrappy.io.parsing import Project\n",
    "\n",
    "p = Project(projectfolder=r'N:\\Projekte\\BASt_Wirksamkeit_Wildwarnanlagen_1754',\n",
    "            folderstructure=r'Daten\\Feldarbeit\\{location}\\Waermebildkameras\\{session}\\{sublocation}',\n",
    "            videoformat='mkv')\n",
    "\n",
    "kwargs = {'location': 'Aglasterhausen B292', 'session': 'session 1'}\n",
    "\n",
    "videos = p.get_videos(**kwargs)\n",
    "videos = list(videos)\n",
    "print('Number of Videos:', len(videos))\n",
    "print('First Video:', videos[0])\n"
   ]
  },
  {
   "cell_type": "markdown",
   "metadata": {},
   "source": [
    "## Zweite Iteration für die Klasse \"Project\""
   ]
  },
  {
   "cell_type": "code",
   "execution_count": 106,
   "metadata": {},
   "outputs": [],
   "source": [
    "from dataclasses import dataclass\n",
    "from pathlib import Path\n",
    "from typing import Dict, List, Optional\n",
    "    \n",
    "\n",
    "@dataclass\n",
    "class Project:\n",
    "    projectfolder: str\n",
    "    camptrappy_subfolder: str  # where to store data, configs, etc.\n",
    "    locations_subfolder: Optional[str]  # contains all folders that are named after the locations\n",
    "    videodata_subfolder: Optional[str]  # only necessary, if locationfolders contain other data as well\n",
    "    with_sessions: bool  # are the recordings grouped into session folders?\n",
    "    with_sublocations: bool  # were multiple cameras deployed at one location?\n",
    "    sessions_before_sublocations: bool  # do sessions contain sublocations or do sublocations contain sessions?\n",
    "    videoformat: str  # e.g. 'mkv'\n",
    "    \n",
    "    def __post_init__(self):\n",
    "        if self.locations_subfolder is None: self.locations_subfolder = ''\n",
    "        if self.videodata_subfolder is None: self.videodata_subfolder = ''\n",
    "    \n",
    "    def locations(self) -> List[str]:\n",
    "        path = Path(self.projectfolder) / Path(self.locations_subfolder)\n",
    "        locations = [p.name for p in path.glob('*/') if p.is_dir()]\n",
    "        return locations\n",
    "\n",
    "    def datafolder(self, location: str) -> str:\n",
    "        path = Path(self.projectfolder) / Path(self.locations_subfolder) / location / Path(self.videodata_subfolder)\n",
    "        return str(path)\n",
    "\n",
    "    def videos(self):\n",
    "        from itertools import chain\n",
    "        \n",
    "        locations = self.locations()\n",
    "        lst = []\n",
    "        for location in locations:\n",
    "            videos = self.videos_by_location(location)\n",
    "            lst.append(videos)\n",
    "            \n",
    "        return chain(*lst)\n",
    "\n",
    "    def videos_by_location(self, location: str):\n",
    "        path = Path(self.datafolder(location))\n",
    "        videos = path.rglob(f'*.{self.videoformat}')\n",
    "\n",
    "        for video in videos:\n",
    "            \n",
    "            if self.with_sessions or self.with_sublocations:\n",
    "                subfolders = video.relative_to(path).parts\n",
    "                \n",
    "                ses, sub, ses_first = self.with_sessions, self.with_sublocations, self.sessions_before_sublocations\n",
    "                \n",
    "                if ses and sub and ses_first:\n",
    "                    session, sublocation = subfolders[0], subfolders[1]\n",
    "                elif ses and sub and not ses_first:\n",
    "                    session, sublocation = subfolders[1], subfolders[0]\n",
    "                elif ses and not sub:\n",
    "                    session, sublocation = subfolders[0], None\n",
    "                elif not ses and sub:\n",
    "                    session, sublocation = None, subfolders[0]\n",
    "                else:\n",
    "                    session, sublocation = None, None\n",
    "        \n",
    "            else:\n",
    "                session, sublocation = None, None\n",
    "            \n",
    "            yield(VideoFile(str(video), location, session, sublocation))"
   ]
  },
  {
   "cell_type": "code",
   "execution_count": 126,
   "metadata": {},
   "outputs": [
    {
     "data": {
      "text/plain": [
       "70120"
      ]
     },
     "execution_count": 126,
     "metadata": {},
     "output_type": "execute_result"
    }
   ],
   "source": [
    "p = Project(r\"N:\\Projekte\\BASt_Wirksamkeit_Wildwarnanlagen_1754\", '', 'Daten/Feldarbeit', 'Waermebildkameras', True, True, True, 'mkv')\n",
    "videos = p.videos()\n",
    "x = list(videos)\n",
    "len(x)"
   ]
  },
  {
   "cell_type": "code",
   "execution_count": 74,
   "metadata": {},
   "outputs": [
    {
     "data": {
      "text/plain": [
       "VideoFile(path='N:\\\\Projekte\\\\BASt_Wirksamkeit_Wildwarnanlagen_1754\\\\Daten\\\\Feldarbeit\\\\Aglasterhausen B292\\\\Waermebildkameras\\\\session 1\\\\wwa_B292_W_2_1\\\\20210702\\\\08\\\\20210702_080325_EE85_ACCC8EA7680E\\\\20210703_00\\\\20210703_003107_9CE8.mkv', location='Aglasterhausen B292', session='session 1', sublocation='wwa_B292_W_2_1')"
      ]
     },
     "execution_count": 74,
     "metadata": {},
     "output_type": "execute_result"
    }
   ],
   "source": [
    "for i in range(1000):\n",
    "    next(videos)\n",
    "next(videos)"
   ]
  },
  {
   "cell_type": "code",
   "execution_count": 127,
   "metadata": {},
   "outputs": [
    {
     "data": {
      "text/plain": [
       "70125"
      ]
     },
     "execution_count": 127,
     "metadata": {},
     "output_type": "execute_result"
    }
   ],
   "source": [
    "path = Path(r\"N:\\Projekte\\BASt_Wirksamkeit_Wildwarnanlagen_1754\")\n",
    "files = path.rglob('*.mkv')\n",
    "_ = list(files)\n",
    "len(_)"
   ]
  }
 ],
 "metadata": {
  "interpreter": {
   "hash": "6f3dbcc7f603f5b8c839717ecf6837391c5c03f7d101a6da87acb9b6b0bad1b8"
  },
  "kernelspec": {
   "display_name": "Python 3.8.8 64-bit ('camtrappy-dev': conda)",
   "language": "python",
   "name": "python3"
  },
  "language_info": {
   "codemirror_mode": {
    "name": "ipython",
    "version": 3
   },
   "file_extension": ".py",
   "mimetype": "text/x-python",
   "name": "python",
   "nbconvert_exporter": "python",
   "pygments_lexer": "ipython3",
   "version": "3.8.8"
  },
  "orig_nbformat": 4
 },
 "nbformat": 4,
 "nbformat_minor": 2
}
